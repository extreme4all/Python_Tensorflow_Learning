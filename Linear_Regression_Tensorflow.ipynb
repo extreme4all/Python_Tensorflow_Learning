{
  "nbformat": 4,
  "nbformat_minor": 0,
  "metadata": {
    "colab": {
      "name": "Linear Regression Tensorflow.ipynb",
      "version": "0.3.2",
      "provenance": [],
      "collapsed_sections": [],
      "include_colab_link": true
    },
    "kernelspec": {
      "name": "python3",
      "display_name": "Python 3"
    }
  },
  "cells": [
    {
      "cell_type": "markdown",
      "metadata": {
        "id": "view-in-github",
        "colab_type": "text"
      },
      "source": [
        "<a href=\"https://colab.research.google.com/github/extreme4all/Python_Tensorflow_Learning/blob/master/Linear_Regression_Tensorflow.ipynb\" target=\"_parent\"><img src=\"https://colab.research.google.com/assets/colab-badge.svg\" alt=\"Open In Colab\"/></a>"
      ]
    },
    {
      "metadata": {
        "id": "xI0EYJxGAwtd",
        "colab_type": "code",
        "colab": {}
      },
      "cell_type": "code",
      "source": [
        "# Required to save models in YAML format\n",
        "!pip install -q pyyaml  "
      ],
      "execution_count": 0,
      "outputs": []
    },
    {
      "metadata": {
        "id": "EyowvDwqA6v2",
        "colab_type": "code",
        "colab": {
          "base_uri": "https://localhost:8080/",
          "height": 72
        },
        "outputId": "e3eb9a9a-4b2b-4d3d-b3f7-8108bb5a4c00"
      },
      "cell_type": "code",
      "source": [
        "import numpy as np \n",
        "import tensorflow as tf\n",
        "import matplotlib\n",
        "import matplotlib.pyplot as plt \n",
        "print('Numpy version:',np.version.version)\n",
        "print('Tensorflow version:',tf.VERSION)\n",
        "print('Matplotlib version:',matplotlib.__version__)"
      ],
      "execution_count": 35,
      "outputs": [
        {
          "output_type": "stream",
          "text": [
            "Numpy version: 1.14.6\n",
            "Tensorflow version: 1.13.1\n",
            "Matplotlib version: 3.0.2\n"
          ],
          "name": "stdout"
        }
      ]
    },
    {
      "metadata": {
        "id": "ebcQvWRpF5ug",
        "colab_type": "code",
        "colab": {}
      },
      "cell_type": "code",
      "source": [
        "# Setting seeds\n",
        "np.random.seed(101) \n",
        "tf.set_random_seed(101) "
      ],
      "execution_count": 0,
      "outputs": []
    },
    {
      "metadata": {
        "id": "tvK-S2T7BFnS",
        "colab_type": "code",
        "colab": {
          "base_uri": "https://localhost:8080/",
          "height": 109
        },
        "outputId": "0ca76f7c-1d6f-422d-e359-2efca6faf15b"
      },
      "cell_type": "code",
      "source": [
        "# Genrating random linear data \n",
        "# There will be 50 data points ranging from 0 to 50 \n",
        "x = np.linspace(0, 50, 50) \n",
        "y = np.linspace(0, 50, 50) \n",
        "  \n",
        "# Adding noise to the random linear data \n",
        "x += np.random.uniform(-4, 4, 50) \n",
        "y += np.random.uniform(-4, 4, 50) \n",
        "\n",
        "# Number of data points \n",
        "n = len(x) \n",
        "\n",
        "# visual\n",
        "print(x[:10])\n",
        "print('##########')\n",
        "print(y[:10])"
      ],
      "execution_count": 42,
      "outputs": [
        {
          "output_type": "stream",
          "text": [
            "[ 1.07017709 -0.19094767  2.50648775  5.50889096  7.72424414  6.08752975\n",
            "  2.6755118   6.48412783  6.29033327 11.4094322 ]\n",
            "##########\n",
            "[-2.02384708 -2.18472242  1.26127131 -0.22760583  0.20221889  8.8149185\n",
            "  2.264383    3.27146831  4.91239672 10.80944939]\n"
          ],
          "name": "stdout"
        }
      ]
    },
    {
      "metadata": {
        "id": "diIbyEbEC6TH",
        "colab_type": "code",
        "colab": {
          "base_uri": "https://localhost:8080/",
          "height": 376
        },
        "outputId": "3bab90e4-91a3-428e-f37a-5102464aed91"
      },
      "cell_type": "code",
      "source": [
        "# Plot of Training Data \n",
        "plt.scatter(x, y) \n",
        "plt.xlabel('x') \n",
        "plt.xlabel('y') \n",
        "plt.title(\"Training Data\") \n",
        "plt.show() "
      ],
      "execution_count": 43,
      "outputs": [
        {
          "output_type": "display_data",
          "data": {
            "image/png": "[encoded data removed]",
            "text/plain": [
              "<Figure size 576x396 with 1 Axes>"
            ]
          },
          "metadata": {
            "tags": []
          }
        }
      ]
    },
    {
      "metadata": {
        "id": "en9aIwtyDATy",
        "colab_type": "code",
        "colab": {}
      },
      "cell_type": "code",
      "source": [
        "# Creating model by defining placeholders to feed into optimizer\n",
        "X = tf.placeholder(\"float\") \n",
        "Y = tf.placeholder(\"float\")\n",
        "\n",
        "# two trainable Tensorflow Variables for the weights and Bias\n",
        "W = tf.Variable(np.random.randn(), name = \"W\") # Weight\n",
        "b = tf.Variable(np.random.randn(), name = \"b\") # Bias\n",
        "\n",
        "# Hyper parameters for the model\n",
        "learning_rate = 0.01\n",
        "training_epochs = 1000"
      ],
      "execution_count": 0,
      "outputs": []
    },
    {
      "metadata": {
        "id": "M2zIg9ZhDHON",
        "colab_type": "code",
        "colab": {}
      },
      "cell_type": "code",
      "source": [
        "# Hypothesis\n",
        "# Prediction_Y =parameter_X * weight + Bias\n",
        "y_pred = tf.add(tf.multiply(X, W), b) \n",
        "  \n",
        "# Mean Squared Error Cost Function \n",
        "cost = tf.reduce_sum(tf.pow(y_pred-Y, 2)) / (2 * n) \n",
        "  \n",
        "# Gradient Descent Optimizer \n",
        "optimizer = tf.train.GradientDescentOptimizer(learning_rate).minimize(cost) \n",
        "  \n",
        "# Global Variables Initializer \n",
        "init = tf.global_variables_initializer() "
      ],
      "execution_count": 0,
      "outputs": []
    },
    {
      "metadata": {
        "id": "vMi88BT9DYsB",
        "colab_type": "code",
        "colab": {
          "base_uri": "https://localhost:8080/",
          "height": 384
        },
        "outputId": "c25e58c5-33d5-49b0-cb42-37cca0934511"
      },
      "cell_type": "code",
      "source": [
        "\n",
        "# Starting the Tensorflow Session \n",
        "with tf.Session() as sess: \n",
        "      \n",
        "    # Initializing the Variables \n",
        "    sess.run(init) \n",
        "      \n",
        "    # Iterating through all the epochs \n",
        "    for epoch in range(training_epochs): \n",
        "          \n",
        "        # Feeding each data point into the optimizer using Feed Dictionary \n",
        "        for (_x, _y) in zip(x, y): \n",
        "            sess.run(optimizer, feed_dict = {X : _x, Y : _y}) \n",
        "          \n",
        "        # Displaying the result after every 50 epochs \n",
        "        if (epoch + 1) % 50 == 0: \n",
        "            # Calculating the cost a every epoch \n",
        "            c = sess.run(cost, feed_dict = {X : x, Y : y}) \n",
        "            print(\"Epoch\", (epoch + 1), \": Cost =\", c, \"Weight =\", sess.run(W), \"Bias =\", sess.run(b)) \n",
        "      \n",
        "    # Storing necessary values to be used outside the Session \n",
        "    training_cost = sess.run(cost, feed_dict ={X: x, Y: y}) \n",
        "    weight = sess.run(W) \n",
        "    bias = sess.run(b) \n",
        "\n"
      ],
      "execution_count": 48,
      "outputs": [
        {
          "output_type": "stream",
          "text": [
            "Epoch 50 : cost = 5.6523485 W = 0.99961 b = -1.0619944\n",
            "Epoch 100 : cost = 5.62167 W = 0.99794495 b = -0.97969544\n",
            "Epoch 150 : cost = 5.596082 W = 0.99645156 b = -0.9058785\n",
            "Epoch 200 : cost = 5.574684 W = 0.99511206 b = -0.8396685\n",
            "Epoch 250 : cost = 5.556744 W = 0.99391055 b = -0.78028303\n",
            "Epoch 300 : cost = 5.5416546 W = 0.99283296 b = -0.72701854\n",
            "Epoch 350 : cost = 5.5289283 W = 0.9918664 b = -0.6792434\n",
            "Epoch 400 : cost = 5.518165 W = 0.9909995 b = -0.636393\n",
            "Epoch 450 : cost = 5.509035 W = 0.9902219 b = -0.59795904\n",
            "Epoch 500 : cost = 5.501265 W = 0.9895245 b = -0.5634855\n",
            "Epoch 550 : cost = 5.494635 W = 0.988899 b = -0.5325667\n",
            "Epoch 600 : cost = 5.4889636 W = 0.98833793 b = -0.50483567\n",
            "Epoch 650 : cost = 5.484092 W = 0.9878347 b = -0.4799614\n",
            "Epoch 700 : cost = 5.4799004 W = 0.98738337 b = -0.45765093\n",
            "Epoch 750 : cost = 5.476286 W = 0.9869785 b = -0.43764046\n",
            "Epoch 800 : cost = 5.473152 W = 0.9866154 b = -0.41969275\n",
            "Epoch 850 : cost = 5.4704375 W = 0.9862897 b = -0.4035939\n",
            "Epoch 900 : cost = 5.468074 W = 0.9859976 b = -0.38915515\n",
            "Epoch 950 : cost = 5.4660144 W = 0.98573565 b = -0.37620452\n",
            "Epoch 1000 : cost = 5.4642167 W = 0.9855006 b = -0.36458778\n"
          ],
          "name": "stdout"
        }
      ]
    },
    {
      "metadata": {
        "id": "SXXDOXAQEunx",
        "colab_type": "code",
        "colab": {
          "base_uri": "https://localhost:8080/",
          "height": 399
        },
        "outputId": "979ee93c-870b-480d-a6b4-12b91d6af9f3"
      },
      "cell_type": "code",
      "source": [
        "# Calculating the predictions \n",
        "predictions = weight * x + bias \n",
        "print(\"Training cost =\", training_cost, \"Weight =\", weight, \"bias =\", bias, '\\n') \n",
        "\n",
        "# Plotting the Results \n",
        "plt.plot(x, y, 'ro', label ='Original data') \n",
        "plt.plot(x, predictions, label ='Fitted line') \n",
        "plt.title('Linear Regression Result') \n",
        "plt.legend() \n",
        "plt.show() \n"
      ],
      "execution_count": 50,
      "outputs": [
        {
          "output_type": "stream",
          "text": [
            "Training cost = 5.4642167 Weight = 0.9855006 bias = -0.36458778 \n",
            "\n"
          ],
          "name": "stdout"
        },
        {
          "output_type": "display_data",
          "data": {
            "image/png": "[encoded data removed]",
            "text/plain": [
              "<Figure size 576x396 with 1 Axes>"
            ]
          },
          "metadata": {
            "tags": []
          }
        }
      ]
    }
  ]
}