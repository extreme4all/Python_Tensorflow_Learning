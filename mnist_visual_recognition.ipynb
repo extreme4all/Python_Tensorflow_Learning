{
  "nbformat": 4,
  "nbformat_minor": 0,
  "metadata": {
    "colab": {
      "name": "mnist visual recognition.ipynb",
      "version": "0.3.2",
      "provenance": [],
      "collapsed_sections": [],
      "include_colab_link": true
    },
    "kernelspec": {
      "name": "python3",
      "display_name": "Python 3"
    }
  },
  "cells": [
    {
      "cell_type": "markdown",
      "metadata": {
        "id": "view-in-github",
        "colab_type": "text"
      },
      "source": [
        "<a href=\"https://colab.research.google.com/github/extreme4all/Python_Tensorflow_Learning/blob/master/mnist_visual_recognition.ipynb\" target=\"_parent\"><img src=\"https://colab.research.google.com/assets/colab-badge.svg\" alt=\"Open In Colab\"/></a>"
      ]
    },
    {
      "metadata": {
        "id": "Q5HooARAM4zg",
        "colab_type": "code",
        "colab": {}
      },
      "cell_type": "code",
      "source": [
        "# https://www.youtube.com/watch?v=2FmcHiLCwTU&list=PL2-dafEMk2A7EEME489DsI468AB0wQsMV\n",
        "# Required to save models in YAML format\n",
        "!pip install -q pyyaml  "
      ],
      "execution_count": 0,
      "outputs": []
    },
    {
      "metadata": {
        "id": "s7hoR7s3PEff",
        "colab_type": "code",
        "colab": {
          "base_uri": "https://localhost:8080/",
          "height": 72
        },
        "outputId": "de0426ca-0d44-49f8-e550-1ca3a50ccead"
      },
      "cell_type": "code",
      "source": [
        "# importin libraries\n",
        "import numpy as np \n",
        "import tensorflow as tf\n",
        "import matplotlib\n",
        "import matplotlib.pyplot as plt \n",
        "print('Numpy version:',np.version.version)\n",
        "print('Tensorflow version:',tf.VERSION)\n",
        "print('Matplotlib version:',matplotlib.__version__)"
      ],
      "execution_count": 5,
      "outputs": [
        {
          "output_type": "stream",
          "text": [
            "Numpy version: 1.14.6\n",
            "Tensorflow version: 1.13.1\n",
            "Matplotlib version: 3.0.2\n"
          ],
          "name": "stdout"
        }
      ]
    },
    {
      "metadata": {
        "id": "93CDEMlqPZ1Z",
        "colab_type": "code",
        "colab": {}
      },
      "cell_type": "code",
      "source": [
        "# importing data\n",
        "from keras.datasets import mnist\n",
        "(x_train, y_train), (x_test, y_test) = mnist.load_data()"
      ],
      "execution_count": 0,
      "outputs": []
    },
    {
      "metadata": {
        "id": "hByqyqYCPfw5",
        "colab_type": "code",
        "colab": {}
      },
      "cell_type": "code",
      "source": [
        "# set parameters\n",
        "learning_rate = 0.01 # how fast update weights\n",
        "training_iteration = 30 \n",
        "batch_size = 100\n",
        "display_step = 2"
      ],
      "execution_count": 0,
      "outputs": []
    },
    {
      "metadata": {
        "id": "LU-4V6rlQRom",
        "colab_type": "code",
        "colab": {}
      },
      "cell_type": "code",
      "source": [
        "# TensorFlow input\n",
        "x = tf.placeholder(\"float\",[None,784]) # mnist data image of shape 28*28=784\n",
        "y = tf.placeholder(\"float\",[None,10]) #0-9 digits recognition => 10 classess\n",
        "\n",
        "# Creating model\n",
        "\n",
        "# Set model weights\n",
        "\n",
        "W = tf.Variable(tf.zeros([784,10])) # weight\n",
        "b = tf.Variable(tf.zeros([10])) # bias\n",
        "\n",
        "with tf.name_scope(\"Wx_b\") as scope:\n",
        "  # construct linear model\n",
        "  model= tf.nn.softmax(tf.matmul(x,W)+b)\n",
        "# add summary ops to collect data\n",
        "w_h = tf.summary.histogram(\"weights\",W)\n",
        "b_h = tf.summary.histogram(\"biases\",b)\n",
        "\n",
        "with tf.name_scope(\"cost_function\") as scope:\n",
        "  cost_function = tf.reduce_sum(y*tf.log(model))\n",
        "  tf.summary.scalar(\"cost_function\",cost_function)\n",
        "\n",
        "with tf.name_scope(\"train\") as scope:\n",
        "  # gradient descent\n",
        "  optimizer = tf.train.GradientDescentOptimizer(learning_rate).minimize(cost_function)\n",
        "  \n",
        "# initialize the variables\n",
        "init = tf.global_variables_initializer()\n",
        "\n",
        "# merge all summaries into a single operator\n",
        "merged_summary_op = tf.summary.merge_all\n"
      ],
      "execution_count": 0,
      "outputs": []
    },
    {
      "metadata": {
        "id": "zpGrlEJr1V6s",
        "colab_type": "code",
        "colab": {
          "base_uri": "https://localhost:8080/",
          "height": 209
        },
        "outputId": "23966c67-48e7-4823-e26b-1c9682668d13"
      },
      "cell_type": "code",
      "source": [
        "# launch the graph\n",
        "with tf.Session() as sess:\n",
        "  sess.run(init)\n",
        "  \n",
        "  # set the logs writer to the folder\n",
        "  summary_writer = tf.train.summaryWriter('/logs',graph_def=sess.graph_def)"
      ],
      "execution_count": 25,
      "outputs": [
        {
          "output_type": "error",
          "ename": "AttributeError",
          "evalue": "ignored",
          "traceback": [
            "\u001b[0;31m---------------------------------------------------------------------------\u001b[0m",
            "\u001b[0;31mAttributeError\u001b[0m                            Traceback (most recent call last)",
            "\u001b[0;32m<ipython-input-25-3b57e12af470>\u001b[0m in \u001b[0;36m<module>\u001b[0;34m()\u001b[0m\n\u001b[1;32m      3\u001b[0m \u001b[0;34m\u001b[0m\u001b[0m\n\u001b[1;32m      4\u001b[0m   \u001b[0;31m# set the logs writer to the folder\u001b[0m\u001b[0;34m\u001b[0m\u001b[0;34m\u001b[0m\u001b[0;34m\u001b[0m\u001b[0m\n\u001b[0;32m----> 5\u001b[0;31m   \u001b[0msummary_writer\u001b[0m \u001b[0;34m=\u001b[0m \u001b[0mtf\u001b[0m\u001b[0;34m.\u001b[0m\u001b[0mtrain\u001b[0m\u001b[0;34m.\u001b[0m\u001b[0msummaryWriter\u001b[0m\u001b[0;34m(\u001b[0m\u001b[0;34m'/logs'\u001b[0m\u001b[0;34m,\u001b[0m\u001b[0mgraph_def\u001b[0m\u001b[0;34m=\u001b[0m\u001b[0msess\u001b[0m\u001b[0;34m.\u001b[0m\u001b[0mgraph_def\u001b[0m\u001b[0;34m)\u001b[0m\u001b[0;34m\u001b[0m\u001b[0;34m\u001b[0m\u001b[0m\n\u001b[0m",
            "\u001b[0;31mAttributeError\u001b[0m: module 'tensorflow._api.v1.train' has no attribute 'summaryWriter'"
          ]
        }
      ]
    }
  ]
}